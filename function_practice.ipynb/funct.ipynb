{
 "cells": [
  {
   "cell_type": "markdown",
   "metadata": {},
   "source": [
    " Write a function that takes an integer n and returns its factorial.\n",
    "\n",
    " Write a function that takes a number as input and returns True if it is a prime number, else returns False.\n",
    "\n",
    " Write a function that takes two numbers and returns their sum. If the second number is not provided, it should default to 10.\n",
    "\n",
    " Write a function that takes multiple numbers as arguments and returns their sum.\n",
    "\n",
    " Write a function that accepts multiple keyword arguments and prints them in the format \"key: value\".\n",
    "\n",
    " Create a module named math_utils.py with a function to calculate square of a number and use it in another script.\n",
    "\n",
    " From the random module, import only the randint() function and generate a random number between 1 and 100.\n",
    "\n",
    " Write a Python script that prints all available functions in the math module.\n",
    "\n",
    " Create a custom module named greetings.py with a function that prints \"Hello, World!\" and import it into another script.\n",
    "\n",
    " Explain why we use if __name__ == \"__main__\" in Python scripts.\n",
    "\n",
    " Write a Python program using the math module to calculate the square root of a given number.\n",
    "\n",
    " Write a Python script that uses the random module to generate a random floating-point number between 0 and 1.\n",
    "\n",
    " Write a program to display the current date and time using the datetime module.\n",
    "\n",
    " Write a script that uses the os module to list all files and folders in the current directory.\n",
    " \n",
    " Write a script that prints \"Loading...\", waits for 3 seconds, and then prints \"Process Completed!\" using the time module."
   ]
  },
  {
   "cell_type": "code",
   "execution_count": 1,
   "metadata": {},
   "outputs": [
    {
     "name": "stdout",
     "output_type": "stream",
     "text": [
      "Factorial of 4 is: 24\n"
     ]
    }
   ],
   "source": [
    "# Write a function that takes an integer n and returns its factorial.\n",
    "def factorial(n):\n",
    "    if n < 0:\n",
    "        return \"Factorial is not defined for negative numbers \"\n",
    "    elif n == 0 or n == 1:\n",
    "        return 1\n",
    "    else:\n",
    "        result = 1\n",
    "        for i in range(2, n + 1):\n",
    "            result *= i\n",
    "        return f\"Factorial of {n} is: {result}\"\n",
    "\n",
    "n = int(input(\"Enter a number: \"))\n",
    "print(factorial(n))\n",
    "    \n"
   ]
  },
  {
   "cell_type": "code",
   "execution_count": 2,
   "metadata": {},
   "outputs": [
    {
     "data": {
      "text/plain": [
       "'True'"
      ]
     },
     "execution_count": 2,
     "metadata": {},
     "output_type": "execute_result"
    }
   ],
   "source": [
    "#  Write a function that takes a number as input and returns True if it is a prime number, else returns False.\n",
    "\n",
    "def prime():\n",
    "    if n <= 1:\n",
    "        return \"False\"\n",
    "    for i in range(2,n):\n",
    "        if n % i == 0:\n",
    "            return \"False\"\n",
    "        else:\n",
    "            return \"True\"\n",
    "        \n",
    "n = int(input(\"Enter a number : \"))\n",
    "prime()\n"
   ]
  },
  {
   "cell_type": "code",
   "execution_count": 3,
   "metadata": {},
   "outputs": [
    {
     "name": "stdout",
     "output_type": "stream",
     "text": [
      "25\n",
      "30\n"
     ]
    }
   ],
   "source": [
    "# Write a function that takes two numbers and returns their sum. If the second number is not provided, it should default to 10.\n",
    "def magic(a , b = 10):\n",
    "    return a+b\n",
    "\n",
    "print(magic(15))\n",
    "print(magic(15,15))\n",
    "\n",
    "\n",
    "    "
   ]
  },
  {
   "cell_type": "code",
   "execution_count": 4,
   "metadata": {},
   "outputs": [
    {
     "name": "stdout",
     "output_type": "stream",
     "text": [
      "10\n"
     ]
    }
   ],
   "source": [
    "# Write a function that takes multiple numbers as arguments and returns their sum.\n",
    "def code(*args):\n",
    "    return sum(args)\n",
    "\n",
    "print(code(1,2,3,4))"
   ]
  },
  {
   "cell_type": "code",
   "execution_count": 5,
   "metadata": {},
   "outputs": [
    {
     "name": "stdout",
     "output_type": "stream",
     "text": [
      "name : vikash\n",
      "course : B.Tech\n",
      "roll : 11242641\n"
     ]
    }
   ],
   "source": [
    "\n",
    "#  Write a function that accepts multiple keyword arguments and prints them in the format \"key: value\".\n",
    "def multiple(**kwargs):\n",
    "    for key, value in kwargs.items():\n",
    "        print(f\"{key} : {value}\")\n",
    "multiple(name=\"vikash\", course=\"B.Tech\", roll=\"11242641\")"
   ]
  },
  {
   "cell_type": "code",
   "execution_count": 6,
   "metadata": {},
   "outputs": [
    {
     "name": "stdout",
     "output_type": "stream",
     "text": [
      "square of 10 is 100\n"
     ]
    }
   ],
   "source": [
    "#  Create a module named math_utils.py with a function to calculate square of a number and use it in another script.\n",
    "from math_utils import square\n",
    "\n",
    "def new():\n",
    "    a = 10\n",
    "    result = square(a)\n",
    "    print(f\"square of {a} is {result}\")\n",
    "\n",
    "if __name__== \"__main__\":\n",
    "    new()\n"
   ]
  },
  {
   "cell_type": "code",
   "execution_count": 7,
   "metadata": {},
   "outputs": [
    {
     "name": "stdout",
     "output_type": "stream",
     "text": [
      "Any random number from 1 to 100 is 74\n"
     ]
    }
   ],
   "source": [
    "# From the random module, import only the randint() function and generate a random number between 1 and 100.\n",
    "from random import randint\n",
    "\n",
    "numbers = randint(1,100)\n",
    "print(f\"Any random number from 1 to 100 is {numbers}\")"
   ]
  },
  {
   "cell_type": "code",
   "execution_count": 8,
   "metadata": {},
   "outputs": [
    {
     "name": "stdout",
     "output_type": "stream",
     "text": [
      "['__doc__', '__loader__', '__name__', '__package__', '__spec__', 'acos', 'acosh', 'asin', 'asinh', 'atan', 'atan2', 'atanh', 'cbrt', 'ceil', 'comb', 'copysign', 'cos', 'cosh', 'degrees', 'dist', 'e', 'erf', 'erfc', 'exp', 'exp2', 'expm1', 'fabs', 'factorial', 'floor', 'fmod', 'frexp', 'fsum', 'gamma', 'gcd', 'hypot', 'inf', 'isclose', 'isfinite', 'isinf', 'isnan', 'isqrt', 'lcm', 'ldexp', 'lgamma', 'log', 'log10', 'log1p', 'log2', 'modf', 'nan', 'nextafter', 'perm', 'pi', 'pow', 'prod', 'radians', 'remainder', 'sin', 'sinh', 'sqrt', 'tan', 'tanh', 'tau', 'trunc', 'ulp']\n"
     ]
    }
   ],
   "source": [
    "# Write a Python script that prints all available functions in the math module.\n",
    "import math\n",
    "print(dir(math))"
   ]
  },
  {
   "cell_type": "code",
   "execution_count": 9,
   "metadata": {},
   "outputs": [
    {
     "name": "stdout",
     "output_type": "stream",
     "text": [
      "Greetings from the greetings module!\n"
     ]
    }
   ],
   "source": [
    "# Create a custom module named greetings.py with a function that prints \"Hello, World!\" and import it into another script.\n",
    "\n",
    "\n",
    "from greetings import greets\n",
    "greets()"
   ]
  },
  {
   "cell_type": "code",
   "execution_count": null,
   "metadata": {},
   "outputs": [],
   "source": [
    "# Explain why we use if __name__ == \"__main__\" in Python scripts.\n",
    "\n",
    "#  In Python, every module has a built-in attribute called __name__.\n",
    "# When a module is run directly (e.g., python script.py), Python sets the __name__ variable to \"__main__\".\n",
    "# When a module is imported into another module (e.g., import script), the __name__ variable is set to the name of the module (in this case, \"script\").\n",
    "\n",
    "# The primary purpose of this construct is to control the execution of code. It allows you to specify code that should only run when the script is executed directly, and not when it is imported as a module.\n",
    "\n",
    "#  By using this construct, we can write code that can be reused in other scripts without executing certain parts of it."
   ]
  },
  {
   "cell_type": "code",
   "execution_count": 11,
   "metadata": {},
   "outputs": [
    {
     "name": "stdout",
     "output_type": "stream",
     "text": [
      "Square root of 16 is 4.0\n"
     ]
    }
   ],
   "source": [
    "# Write a Python program using the math module to calculate the square root of a given number.\n",
    "import math\n",
    "a =  int(input(\"Enter a number: \"))\n",
    "sq_root = pow(a,1/2)\n",
    "print(f\"Square root of {a} is {sq_root}\")\n"
   ]
  },
  {
   "cell_type": "code",
   "execution_count": 12,
   "metadata": {},
   "outputs": [
    {
     "name": "stdout",
     "output_type": "stream",
     "text": [
      "Random floating-point number between 0 and 1: 0.03648852504803046\n"
     ]
    }
   ],
   "source": [
    "# Write a Python script that uses the random module to generate a random floating-point number between 0 and 1.\n",
    "import random\n",
    "random_float = random.random()\n",
    "print(f\"Random floating-point number between 0 and 1: {random_float}\")"
   ]
  },
  {
   "cell_type": "code",
   "execution_count": 13,
   "metadata": {},
   "outputs": [
    {
     "name": "stdout",
     "output_type": "stream",
     "text": [
      "The current date and time is : 2025-03-14 16:58:31.681094\n"
     ]
    }
   ],
   "source": [
    "# Write a program to display the current date usingand time  the datetime module.\n",
    "from datetime import datetime\n",
    "\n",
    "current = datetime.now()\n",
    "print(\"The current date and time is :\",current)"
   ]
  },
  {
   "cell_type": "code",
   "execution_count": 14,
   "metadata": {},
   "outputs": [
    {
     "data": {
      "text/plain": [
       "['funct.ipynb', 'greetings.py', 'math_utils.py', '__pycache__']"
      ]
     },
     "execution_count": 14,
     "metadata": {},
     "output_type": "execute_result"
    }
   ],
   "source": [
    " # Write a script that uses the os module to list all files and folders in the current directory.\n",
    "import os\n",
    "all = os.listdir()\n",
    "all\n"
   ]
  },
  {
   "cell_type": "code",
   "execution_count": 15,
   "metadata": {},
   "outputs": [
    {
     "name": "stdout",
     "output_type": "stream",
     "text": [
      "Loading...\n"
     ]
    },
    {
     "name": "stdout",
     "output_type": "stream",
     "text": [
      "1\n",
      "\n",
      "2\n",
      "\n",
      "3\n",
      "\n",
      "Process Completed!\n"
     ]
    }
   ],
   "source": [
    " # Write a script that prints \"Loading...\", waits for 3 seconds, and then prints \"Process Completed!\" using the time module.\n",
    "import time \n",
    "\n",
    "print(\"Loading...\")\n",
    "time.sleep(1)\n",
    "print(\"1\\n\")\n",
    "time.sleep(1)\n",
    "print(\"2\\n\")\n",
    "time.sleep(1)\n",
    "print(\"3\\n\")\n",
    "print(\"Process Completed!\")\n"
   ]
  }
 ],
 "metadata": {
  "kernelspec": {
   "display_name": "Python 3",
   "language": "python",
   "name": "python3"
  },
  "language_info": {
   "codemirror_mode": {
    "name": "ipython",
    "version": 3
   },
   "file_extension": ".py",
   "mimetype": "text/x-python",
   "name": "python",
   "nbconvert_exporter": "python",
   "pygments_lexer": "ipython3",
   "version": "3.11.9"
  }
 },
 "nbformat": 4,
 "nbformat_minor": 2
}
